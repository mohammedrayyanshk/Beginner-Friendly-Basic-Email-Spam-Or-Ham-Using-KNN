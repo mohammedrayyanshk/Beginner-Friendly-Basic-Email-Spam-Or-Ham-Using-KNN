{
  "nbformat": 4,
  "nbformat_minor": 0,
  "metadata": {
    "colab": {
      "provenance": []
    },
    "kernelspec": {
      "name": "python3",
      "display_name": "Python 3"
    },
    "language_info": {
      "name": "python"
    }
  },
  "cells": [
    {
      "cell_type": "code",
      "execution_count": null,
      "metadata": {
        "colab": {
          "base_uri": "https://localhost:8080/"
        },
        "id": "oxR8AhUTKviY",
        "outputId": "6d4b4944-f390-4756-8ddf-5512a91fd1af"
      },
      "outputs": [
        {
          "output_type": "stream",
          "name": "stdout",
          "text": [
            "Downloading from https://www.kaggle.com/api/v1/datasets/download/prishasawhney/email-classification-ham-spam?dataset_version_number=1...\n"
          ]
        },
        {
          "output_type": "stream",
          "name": "stderr",
          "text": [
            "100%|██████████| 4.19k/4.19k [00:00<00:00, 5.75MB/s]"
          ]
        },
        {
          "output_type": "stream",
          "name": "stdout",
          "text": [
            "Extracting files...\n",
            "Dataset downloaded at: /root/.cache/kagglehub/datasets/prishasawhney/email-classification-ham-spam/versions/1\n"
          ]
        },
        {
          "output_type": "stream",
          "name": "stderr",
          "text": [
            "\n"
          ]
        }
      ],
      "source": [
        "import kagglehub\n",
        "import pandas as pd\n",
        "import numpy as np\n",
        "import seaborn as sns\n",
        "import matplotlib.pyplot as plt\n",
        "from sklearn.model_selection import train_test_split\n",
        "from sklearn.feature_extraction.text import TfidfVectorizer\n",
        "from sklearn.preprocessing import LabelEncoder\n",
        "from sklearn.neighbors import KNeighborsClassifier\n",
        "from sklearn.metrics import accuracy_score, classification_report, confusion_matrix\n",
        "\n",
        "# Download dataset\n",
        "path = kagglehub.dataset_download(\"prishasawhney/email-classification-ham-spam\")\n",
        "print(\"Dataset downloaded at:\", path)\n"
      ]
    },
    {
      "cell_type": "code",
      "source": [
        "\n",
        "# Load dataset\n",
        "df = pd.read_csv(\"/content/sample_data/email_classification.csv\")  # Adjust file name if needed\n",
        "\n",
        "# Encode labels\n",
        "label_encoder = LabelEncoder()\n",
        "df['label'] = label_encoder.fit_transform(df['label'])  # Spam = 1, Ham = 0\n",
        "\n",
        "\n",
        "# Convert text into numerical features\n",
        "# Use 'email' column instead of 'text'\n",
        "vectorizer = TfidfVectorizer(stop_words='english', max_features=3000)\n",
        "X = vectorizer.fit_transform(df['email']).toarray()\n",
        "y = df['label']\n",
        "\n",
        "# Split data\n",
        "X_train, X_test, y_train, y_test = train_test_split(X, y, test_size=0.2, random_state=42)\n",
        "\n",
        "# Train KNN Model\n",
        "knn = KNeighborsClassifier(n_neighbors=5)\n",
        "knn.fit(X_train, y_train)\n",
        "\n",
        "def predict_email(text):\n",
        "    text_transformed = vectorizer.transform([text]).toarray()\n",
        "    prediction = knn.predict(text_transformed)\n",
        "    return \"Spam\" if prediction[0] == 1 else \"Ham\"\n",
        "\n",
        "# Menu-driven system\n",
        "while True:\n",
        "    print(\"\\n--- Email Spam Detection System ---\")\n",
        "    print(\"1. View Dataset Sample\")\n",
        "    print(\"2. Train Model & Check Accuracy\")\n",
        "    print(\"3. Test a New Email\")\n",
        "    print(\"4. Exit\")\n",
        "\n",
        "    choice = input(\"Enter your choice: \")\n",
        "\n",
        "    if choice == '1':\n",
        "        print(\"\\nSample Data:\")\n",
        "        print(df.head())\n",
        "\n",
        "    elif choice == '2':\n",
        "        y_pred = knn.predict(X_test)\n",
        "        accuracy = accuracy_score(y_test, y_pred)\n",
        "        print(\"\\nModel Accuracy:\", accuracy)\n",
        "        print(\"Classification Report:\\n\", classification_report(y_test, y_pred))\n",
        "\n",
        "        conf_matrix = confusion_matrix(y_test, y_pred)\n",
        "        sns.heatmap(conf_matrix, annot=True, fmt=\"d\", cmap=\"Blues\", xticklabels=['Ham', 'Spam'], yticklabels=['Ham', 'Spam'])\n",
        "        plt.xlabel(\"Predicted\")\n",
        "        plt.ylabel(\"Actual\")\n",
        "        plt.title(\"Confusion Matrix\")\n",
        "        plt.show()\n",
        "\n",
        "    elif choice == '3':\n",
        "        new_email = input(\"\\nEnter the email text: \")\n",
        "        print(\"Prediction:\", predict_email(new_email))\n",
        "\n",
        "    elif choice == '4':\n",
        "        print(\"Exiting...\\n\")\n",
        "        break\n",
        "\n",
        "    else:\n",
        "        print(\"Invalid choice. Please try again.\")\n"
      ],
      "metadata": {
        "colab": {
          "base_uri": "https://localhost:8080/"
        },
        "id": "MhYmiPaaLz3Q",
        "outputId": "3382c3cc-8a6f-4817-8914-220672c20bb9"
      },
      "execution_count": null,
      "outputs": [
        {
          "output_type": "stream",
          "name": "stdout",
          "text": [
            "\n",
            "--- Email Spam Detection System ---\n",
            "1. View Dataset Sample\n",
            "2. Train Model & Check Accuracy\n",
            "3. Test a New Email\n",
            "4. Exit\n",
            "Enter your choice: 3\n",
            "\n",
            "Enter the email text: We are Hiring Click Here to Check For eligibility \n",
            "Prediction: Ham\n",
            "\n",
            "--- Email Spam Detection System ---\n",
            "1. View Dataset Sample\n",
            "2. Train Model & Check Accuracy\n",
            "3. Test a New Email\n",
            "4. Exit\n",
            "Enter your choice: 3\n",
            "\n",
            "Enter the email text: thankyou for your payment but click here to win an prize click now!\n",
            "Prediction: Ham\n",
            "\n",
            "--- Email Spam Detection System ---\n",
            "1. View Dataset Sample\n",
            "2. Train Model & Check Accuracy\n",
            "3. Test a New Email\n",
            "4. Exit\n",
            "Enter your choice: we are from google we need your otp for comfimation \n",
            "Invalid choice. Please try again.\n",
            "\n",
            "--- Email Spam Detection System ---\n",
            "1. View Dataset Sample\n",
            "2. Train Model & Check Accuracy\n",
            "3. Test a New Email\n",
            "4. Exit\n",
            "Enter your choice: we are from [company] we need you Passcode for your order to proceed click here ! \n",
            "Invalid choice. Please try again.\n",
            "\n",
            "--- Email Spam Detection System ---\n",
            "1. View Dataset Sample\n",
            "2. Train Model & Check Accuracy\n",
            "3. Test a New Email\n",
            "4. Exit\n",
            "Enter your choice: 4\n",
            "Exiting...\n",
            "\n"
          ]
        }
      ]
    }
  ]
}